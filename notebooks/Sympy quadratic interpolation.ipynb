{
 "metadata": {
  "name": "",
  "signature": "sha256:c18f077ae579f76bf2754b6182215a5facd66df97fcbbd27a5eb505e03d81474"
 },
 "nbformat": 3,
 "nbformat_minor": 0,
 "worksheets": [
  {
   "cells": [
    {
     "cell_type": "code",
     "collapsed": false,
     "input": [
      "import sympy\n",
      "\n",
      "x, a, b = [sympy.Symbol(i) for i in ['x', 'a', 'b']]\n",
      "u = a * x ** 2 + b * x\n",
      "iu = sympy.integrate(u, x)\n",
      "print(iu)\n",
      "u_0 = a/3 + b/2\n",
      "u_1 = 8 * a / 3 + 4 * b / 2 - a / 3 - b / 2\n",
      "print(sympy.solve(u_0, a, b))\n",
      "print(sympy.solve(u_1, a, b))\n",
      "print(sympy.solve(u, x))\n"
     ],
     "language": "python",
     "metadata": {},
     "outputs": [
      {
       "output_type": "stream",
       "stream": "stdout",
       "text": [
        "a*x**3/3 + b*x**2/2\n",
        "[{a: -3*b/2}]\n",
        "[{a: -9*b/14}]\n",
        "[0, -b/a]\n"
       ]
      }
     ],
     "prompt_number": 10
    }
   ],
   "metadata": {}
  }
 ]
}