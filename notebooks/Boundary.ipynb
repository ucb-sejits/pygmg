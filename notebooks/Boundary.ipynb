{
 "metadata": {
  "name": "",
  "signature": "sha256:675c08382319564b8de3edf18d2f8bcedafd38613a8bd9a71d7eea4f650e17f0"
 },
 "nbformat": 3,
 "nbformat_minor": 0,
 "worksheets": [
  {
   "cells": [
    {
     "cell_type": "code",
     "collapsed": false,
     "input": [
      "import sympy\n",
      "import numpy as np\n",
      "import itertools"
     ],
     "language": "python",
     "metadata": {},
     "outputs": [],
     "prompt_number": 1
    },
    {
     "cell_type": "code",
     "collapsed": false,
     "input": [
      "constants = sympy.symbols('a b')\n",
      "variable = sympy.Symbol('x')"
     ],
     "language": "python",
     "metadata": {},
     "outputs": [],
     "prompt_number": 2
    },
    {
     "cell_type": "code",
     "collapsed": false,
     "input": [
      "exp = sympy.sympify('a*x**2 + b*x')"
     ],
     "language": "python",
     "metadata": {},
     "outputs": [],
     "prompt_number": 3
    },
    {
     "cell_type": "code",
     "collapsed": false,
     "input": [
      "def to_coeff_array(expressions):\n",
      "    symbols = list(sorted(set(itertools.chain(*[i.free_symbols for i in expressions])), key=str))\n",
      "    coeff_array = np.zeros((len(expressions), len(symbols)))\n",
      "    for index, expression in enumerate(expressions):\n",
      "        coeff_dict = expression.as_coefficients_dict()\n",
      "        coeff_array[index] = [coeff_dict[sym] for sym in symbols]\n",
      "    return coeff_array"
     ],
     "language": "python",
     "metadata": {},
     "outputs": [],
     "prompt_number": 4
    },
    {
     "cell_type": "code",
     "collapsed": false,
     "input": [
      "u0 = exp.integrate((variable, 0, 1))\n",
      "u1 = exp.integrate((variable, 1, 2))\n",
      "u_1 = exp.integrate((variable, -1, 0))\n",
      "u0, u1, u_1\n",
      "\n",
      "A = to_coeff_array([u0, u1]).T\n",
      "y = to_coeff_array([u_1])[0]\n",
      "np.linalg.solve(A, y)\n",
      "#arr = np.array([i.coeffs() for i in (u0, u1)])\n",
      "#arr"
     ],
     "language": "python",
     "metadata": {},
     "outputs": [
      {
       "metadata": {},
       "output_type": "pyout",
       "prompt_number": 5,
       "text": [
        "array([-2.5,  0.5])"
       ]
      }
     ],
     "prompt_number": 5
    },
    {
     "cell_type": "code",
     "collapsed": false,
     "input": [
      "u1.as_coefficients_dict()"
     ],
     "language": "python",
     "metadata": {},
     "outputs": [
      {
       "metadata": {},
       "output_type": "pyout",
       "prompt_number": 6,
       "text": [
        "defaultdict(<type 'int'>, {b: 3/2, a: 7/3})"
       ]
      }
     ],
     "prompt_number": 6
    },
    {
     "cell_type": "code",
     "collapsed": false,
     "input": [
      "def extract_coefficients(exp, free_variable=sympy.Symbol('x'), spectrum=(-1, 0)):\n",
      "    coefficients = list(sorted(exp.free_symbols - {free_variable}, key=str))\n",
      "    chunks = len(coefficients)\n",
      "    integrated_chunks = [exp.integrate((free_variable, n, n+1)) for n in range(chunks)]\n",
      "    n1 = exp.integrate((free_variable,) + spectrum)\n",
      "    A = np.array([\n",
      "        [segment.as_coefficients_dict()[coeff] for coeff in coefficients] for segment in integrated_chunks\n",
      "    ])\n",
      "    b = np.array([n1.as_coefficients_dict()[coeff] for coeff in coefficients])\n",
      "    return np.linalg.solve(A.T, b)"
     ],
     "language": "python",
     "metadata": {},
     "outputs": [],
     "prompt_number": 7
    },
    {
     "cell_type": "code",
     "collapsed": false,
     "input": [
      "extract_coefficients(exp)"
     ],
     "language": "python",
     "metadata": {},
     "outputs": [
      {
       "metadata": {},
       "output_type": "pyout",
       "prompt_number": 8,
       "text": [
        "array([-2.5,  0.5])"
       ]
      }
     ],
     "prompt_number": 8
    },
    {
     "cell_type": "code",
     "collapsed": false,
     "input": [
      "exp2 = sympy.sympify('a*x**6 + b*x**5 + c*x**4 + d*x**3 + f*x**2 + g*x')\n",
      "extract_coefficients(exp2)"
     ],
     "language": "python",
     "metadata": {},
     "outputs": [
      {
       "metadata": {},
       "output_type": "pyout",
       "prompt_number": 9,
       "text": [
        "array([-11.15      ,   9.85      ,  -7.65      ,   4.01666667,\n",
        "        -1.23333333,   0.16666667])"
       ]
      }
     ],
     "prompt_number": 9
    },
    {
     "cell_type": "code",
     "collapsed": false,
     "input": [
      "import sys\n",
      "#sys.path.append(\"/usr/local/lib/python2.7/site-packages\") #comment this out just for me\n",
      "import sympy\n",
      "import numpy as np\n",
      "\n",
      "from sympy import *\n",
      "from sympy.abc import x\n",
      "\n",
      "\n",
      "a, b, c = symbols('a, b, c')\n",
      "l = []\n",
      "u = [15,12] #these are the givens\n",
      "# problem: how can we define \"n\" symbols with sympy \n",
      "\n",
      "# append n simulaneous equations coefficients u[i] into list\n",
      "for i in range(0,2): \n",
      "\tf = Poly(a*x**2 + b*x , x)\n",
      "\tl.append(integrate(f, (x, i, i+1)).coeffs())\n",
      "A = np.array(l) #load coefficients into matrix\n",
      "coeffs =  np.linalg.solve(A, u) #determine values of unknown coefficients in polynomial(a,b,c etc)\n",
      "uneg1 = integrate(f, (x, -1, 0)).coeffs() #\n",
      "boundary_val =  np.dot(uneg1, coeffs) \n",
      "print(uneg1)\n",
      "print A\n",
      "print \"boundary value: \", boundary_val\n",
      "print boundary_val, -5.0/2*u[0] + 1.0/2*u[1]  #just a check we get the same thing as sam\n",
      "\n"
     ],
     "language": "python",
     "metadata": {},
     "outputs": [
      {
       "output_type": "stream",
       "stream": "stdout",
       "text": [
        "[1/3, -1/2]\n",
        "[[1/3 1/2]\n",
        " [7/3 3/2]]\n",
        "boundary value:  -31.5000000000000\n",
        "-31.5000000000000 -31.5\n"
       ]
      }
     ],
     "prompt_number": 10
    },
    {
     "cell_type": "code",
     "collapsed": false,
     "input": [
      "from collections import namedtuple\n",
      "def generateV2(self):\n",
      "    a, b, c = symbols('a, b, c')\n",
      "    l = []\n",
      "    # append n simulaneous equations coefficients l[i] into list\n",
      "    for i in range(0,self.degree):\n",
      "        f = Poly(a*x**2 + b*x , x)\n",
      "        l.append(integrate(f, (x, i, i+1)).coeffs())\n",
      "    A = np.array(l)\n",
      "    #print(A)\n",
      "    B =  np.linalg.inv(A) # \"solve\" system\n",
      "    uneg1 = integrate(f, (x, -1, 0)).coeffs() #\n",
      "    coeffs = np.zeros(self.degree)\n",
      "    for i in range(self.degree):\n",
      "        coeffs = coeffs + B[i]*uneg1[i]\n",
      "    return coeffs\n",
      "\n",
      "a = namedtuple('A', ['degree'])\n",
      "a.degree = 2\n",
      "generateV2(a)"
     ],
     "language": "python",
     "metadata": {},
     "outputs": [
      {
       "metadata": {},
       "output_type": "pyout",
       "prompt_number": 10,
       "text": [
        "array([-2.50000000000000, 0.500000000000000], dtype=object)"
       ]
      }
     ],
     "prompt_number": 10
    },
    {
     "cell_type": "code",
     "collapsed": false,
     "input": [],
     "language": "python",
     "metadata": {},
     "outputs": []
    }
   ],
   "metadata": {}
  }
 ]
}