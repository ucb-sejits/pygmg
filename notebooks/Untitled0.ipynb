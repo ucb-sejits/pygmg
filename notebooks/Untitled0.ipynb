{
 "metadata": {
  "name": "",
  "signature": "sha256:4cf1780c32124cf39283f65b0eec4189075bd6fdab3af4421f1249a6869891a5"
 },
 "nbformat": 3,
 "nbformat_minor": 0,
 "worksheets": [
  {
   "cells": [
    {
     "cell_type": "code",
     "collapsed": false,
     "input": [
      "import sympy\n",
      "import numpy as np\n",
      "\n",
      "a, b, c, x = sympy.symbols('a, b, c, x')\n",
      "print(\"symbol(a) {} symbol(b) {}\".format(a, b))\n",
      "l = []\n",
      "u = [0.0, 1.0]  # these are the givens\n",
      "# problem: how can we define \"n\" symbols with sympy\n",
      "\n",
      "# append n simultaneous equations coefficients u[i] into list\n",
      "for i in range(0,2):\n",
      "    f = sympy.Poly(a*(x**2) + b*x, x)\n",
      "    print(\"eq_{} {}\".format(i+1, f))\n",
      "    l.append(sympy.integrate(f, (x, i, i+1)).coeffs())\n",
      "\n",
      "A = np.array(l)  # load coefficients into matrix\n",
      "coefficients = np.linalg.solve(A, u)  # determine values of unknown coefficients in polynomial(a,b,c etc)\n",
      "u_on_boundary = sympy.integrate(f, (x, -1, 0)).coeffs()\n",
      "boundary_val = float(np.dot(u_on_boundary, coefficients))\n",
      "predicted = -5.0/2*u[0] + 1.0/2*u[1]\n",
      "\n",
      "print(\"l={}\".format(l))\n",
      "print(A)\n",
      "print(coefficients)\n",
      "print(\"boundary value: {} {}\".format(boundary_val, type(boundary_val)))\n",
      "print(\"predicted value {} {}\".format(predicted, type(predicted)))\n",
      "print(\"{}\".format(boundary_val-predicted))\n",
      "print(boundary_val == predicted)  # just a check we get the same thing as sam\n"
     ],
     "language": "python",
     "metadata": {},
     "outputs": [
      {
       "output_type": "stream",
       "stream": "stdout",
       "text": [
        "symbol(a) a symbol(b) b\n",
        "eq_1 Poly(a*x**2 + b*x, x, domain='ZZ[a,b]')\n",
        "eq_2 Poly(a*x**2 + b*x, x, domain='ZZ[a,b]')\n",
        "l=[[1/3, 1/2], [7/3, 3/2]]\n",
        "[[1/3 1/2]\n",
        " [7/3 3/2]]\n",
        "[ 0.75 -0.5 ]\n",
        "boundary value: 0.5 <type 'float'>\n",
        "predicted value 0.5 <type 'float'>\n",
        "0.0\n",
        "True\n"
       ]
      }
     ],
     "prompt_number": 4
    },
    {
     "cell_type": "code",
     "collapsed": false,
     "input": [],
     "language": "python",
     "metadata": {},
     "outputs": []
    }
   ],
   "metadata": {}
  }
 ]
}