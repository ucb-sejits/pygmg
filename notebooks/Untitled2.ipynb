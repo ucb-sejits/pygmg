{
 "metadata": {
  "name": "",
  "signature": "sha256:fa09a4799e9c7ac50cdc080ec713cb5364a75e97e302c6b3212d44676175e6da"
 },
 "nbformat": 3,
 "nbformat_minor": 0,
 "worksheets": [
  {
   "cells": [
    {
     "cell_type": "code",
     "collapsed": false,
     "input": [
      "from sympy import symbols,sin,cos\n",
      "from sympy.galgebra.printing import xdvi\n",
      "from sympy.galgebra.ga import *\n",
      "\n",
      "Format()\n",
      "\n",
      "vars = symbols('t x y z')\n",
      "(g0,g1,g2,g3,grad) = MV.setup('gamma*t|x|y|z',metric='[1,-1,-1,-1]',coords=vars)\n",
      "I = MV.I\n",
      "\n",
      "B = MV('B','vector',fct=True)\n",
      "E = MV('E','vector',fct=True)\n",
      "B.set_coef(1,0,0)\n",
      "E.set_coef(1,0,0)\n",
      "B *= g0\n",
      "E *= g0\n",
      "J = MV('J','vector',fct=True)\n",
      "F = E+I*B\n",
      "\n",
      "print 'B = \\\\bm{B\\\\gamma_{t}} =',B\n",
      "print 'E = \\\\bm{E\\\\gamma_{t}} =',E\n",
      "print 'F = E+IB =',F\n",
      "print 'J =',J\n",
      "gradF = grad*F\n",
      "gradF.Fmt(3,'grad*F')\n",
      "\n",
      "print 'grad*F = J'\n",
      "(gradF.grade(1)-J).Fmt(3,'%\\\\grade{\\\\nabla F}_{1} -J = 0')\n",
      "(gradF.grade(3)).Fmt(3,'%\\\\grade{\\\\nabla F}_{3} = 0')\n",
      "\n",
      "xdvi()"
     ],
     "language": "python",
     "metadata": {},
     "outputs": [
      {
       "output_type": "stream",
       "stream": "stdout",
       "text": [
        "latex file = -c.tex\n",
        "pdflatex path = None\n"
       ]
      }
     ],
     "prompt_number": 2
    },
    {
     "cell_type": "code",
     "collapsed": false,
     "input": [],
     "language": "python",
     "metadata": {},
     "outputs": []
    }
   ],
   "metadata": {}
  }
 ]
}