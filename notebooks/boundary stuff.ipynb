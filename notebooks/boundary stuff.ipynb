{
 "metadata": {
  "name": "",
  "signature": "sha256:41f121f995f1a16c33acb43fca8db4c200141c7815f308fd3c78832ed799fa3e"
 },
 "nbformat": 3,
 "nbformat_minor": 0,
 "worksheets": [
  {
   "cells": [
    {
     "cell_type": "code",
     "collapsed": false,
     "input": [
      "import itertools as it\n",
      "\n",
      "boundary_types = list(it.product('ie', repeat=3))\n",
      "boundary_types\n"
     ],
     "language": "python",
     "metadata": {},
     "outputs": [
      {
       "metadata": {},
       "output_type": "pyout",
       "prompt_number": 29,
       "text": [
        "[('i', 'i', 'i'),\n",
        " ('i', 'i', 'e'),\n",
        " ('i', 'e', 'i'),\n",
        " ('i', 'e', 'e'),\n",
        " ('e', 'i', 'i'),\n",
        " ('e', 'i', 'e'),\n",
        " ('e', 'e', 'i'),\n",
        " ('e', 'e', 'e')]"
       ]
      }
     ],
     "prompt_number": 29
    }
   ],
   "metadata": {}
  }
 ]
}