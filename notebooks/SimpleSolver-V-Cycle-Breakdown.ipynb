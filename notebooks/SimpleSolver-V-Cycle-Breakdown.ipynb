{
 "metadata": {
  "name": "",
  "signature": "sha256:dd2c1efca4da764d01fedfbe18bb5e94bba1b4db0746f8b000c19b7832adf8a8"
 },
 "nbformat": 3,
 "nbformat_minor": 0,
 "worksheets": [
  {
   "cells": [
    {
     "cell_type": "code",
     "collapsed": false,
     "input": [
      "from __future__ import print_function\n",
      "%matplotlib inline\n",
      "import numpy as np\n",
      "from hpgmg.finite_volume.ipython_tools import plot\n",
      "\n",
      "from hpgmg.finite_volume.simple_hpgmg import SimpleMultigridSolver\n",
      "from hpgmg.finite_volume.operators.restriction import Restriction"
     ],
     "language": "python",
     "metadata": {},
     "outputs": [],
     "prompt_number": 1
    },
    {
     "cell_type": "code",
     "collapsed": false,
     "input": [
      "solver = SimpleMultigridSolver.get_solver([\n",
      "    \"3\", \n",
      "    \"--dimensions\", \"2\", \n",
      "    \"--number-of-vcycles\", \"1\", \n",
      "    \"--smoother-iterations\", \"2\", \n",
      "    \"--log\",\n",
      "])"
     ],
     "language": "python",
     "metadata": {},
     "outputs": [],
     "prompt_number": 2
    },
    {
     "cell_type": "code",
     "collapsed": false,
     "input": [
      "level = solver.fine_level\n",
      "# plot(level.exact_solution, title=\"exact solution\")\n",
      "# plot(level.right_hand_side, title=\"right hand side\")\n",
      "# level.scale_mesh(level.residual, 1.0, level.right_hand_side)\n",
      "# plot(level.right_hand_side, title=\"residual is copy of rhs\")\n",
      "level.right_hand_side.print('right-hand-side or f')\n",
      "level.exact_solution.print('exact-solution or utrue')\n"
     ],
     "language": "python",
     "metadata": {},
     "outputs": [
      {
       "output_type": "stream",
       "stream": "stdout",
       "text": [
        "Mesh print right-hand-side or f shape (10, 10)\n",
        "-1248.460     0.388     0.388 -1248.460  1248.460    -0.388    -0.388  1248.460 -1248.460     0.388 \n",
        "    0.388  -138.604  -138.604     0.388    -0.388   138.604   138.604    -0.388     0.388  -138.604 \n",
        "    0.388  -138.604  -138.604     0.388    -0.388   138.604   138.604    -0.388     0.388  -138.604 \n",
        "-1248.460     0.388     0.388 -1248.460  1248.460    -0.388    -0.388  1248.460 -1248.460     0.388 \n",
        " 1248.460    -0.388    -0.388  1248.460 -1248.460     0.388     0.388 -1248.460  1248.460    -0.388 \n",
        "   -0.388   138.604   138.604    -0.388     0.388  -138.604  -138.604     0.388    -0.388   138.604 \n",
        "   -0.388   138.604   138.604    -0.388     0.388  -138.604  -138.604     0.388    -0.388   138.604 \n",
        " 1248.460    -0.388    -0.388  1248.460 -1248.460     0.388     0.388 -1248.460  1248.460    -0.388 \n",
        "-1248.460     0.388     0.388 -1248.460  1248.460    -0.388    -0.388  1248.460 -1248.460     0.388 \n",
        "    0.388  -138.604  -138.604     0.388    -0.388   138.604   138.604    -0.388     0.388  -138.604 \n",
        "\n",
        "Mesh print exact-solution or utrue shape (10, 10)\n",
        "    0.128    -0.000     0.000     0.128    -0.128     0.000    -0.000    -0.128     0.128    -0.000 \n",
        "   -0.000     0.128     0.128    -0.000     0.000    -0.128    -0.128     0.000    -0.000     0.128 \n",
        "    0.000     0.128     0.128     0.000    -0.000    -0.128    -0.128    -0.000     0.000     0.128 \n",
        "    0.128    -0.000     0.000     0.128    -0.128     0.000    -0.000    -0.128     0.128    -0.000 \n",
        "   -0.128     0.000    -0.000    -0.128     0.128    -0.000     0.000     0.128    -0.128     0.000 \n",
        "    0.000    -0.128    -0.128     0.000    -0.000     0.128     0.128    -0.000     0.000    -0.128 \n",
        "   -0.000    -0.128    -0.128    -0.000     0.000     0.128     0.128     0.000    -0.000    -0.128 \n",
        "   -0.128     0.000    -0.000    -0.128     0.128    -0.000     0.000     0.128    -0.128     0.000 \n",
        "    0.128    -0.000     0.000     0.128    -0.128     0.000    -0.000    -0.128     0.128    -0.000 \n",
        "   -0.000     0.128     0.128    -0.000     0.000    -0.128    -0.128     0.000    -0.000     0.128 \n",
        "\n"
       ]
      }
     ],
     "prompt_number": 9
    },
    {
     "cell_type": "code",
     "collapsed": false,
     "input": [
      "# level.fill_mesh(level.right_hand_side, 10.0)\n",
      "solver.problem_operator.set_scale(level.h)\n",
      "print(\"smoother iterations {} h2inv {} use_l1 {}\".format(\n",
      "    solver.smoother.iterations, solver.problem_operator.h2inv, solver.smoother.use_l1_jacobi))\n",
      "level.fill_mesh(level.cell_values, 0.0)\n",
      "level.cell_values.print('cell-values or u')\n",
      "solver.problem_operator.rebuild_operator(level)\n",
      "level.d_inverse.print('d_inverse or dinv')\n",
      "level.scale_mesh(level.residual, 1.0, level.right_hand_side)\n",
      "# level.scale_mesh(level.residual, 1.0, level.right_hand_side)\n",
      "# plot(level.residual, title=\"residual\")\n",
      "\n",
      "solver.smoother.smooth(level, level.cell_values, level.residual)\n",
      "level.cell_values.print('cell-values after smooth')\n",
      "# plot(level.cell_values)\n",
      "# solver.smoother.smooth(level, level.cell_values, level.right_hand_side)\n",
      "# plot(level.cell_values)"
     ],
     "language": "python",
     "metadata": {},
     "outputs": [
      {
       "output_type": "stream",
       "stream": "stdout",
       "text": [
        "smoother iterations 2 h2inv 64.0 use_l1 False\n",
        "Mesh print cell-values or u shape (10, 10)\n",
        "    0.000     0.000     0.000     0.000     0.000     0.000     0.000     0.000     0.000     0.000 \n",
        "    0.000     0.000     0.000     0.000     0.000     0.000     0.000     0.000     0.000     0.000 \n",
        "    0.000     0.000     0.000     0.000     0.000     0.000     0.000     0.000     0.000     0.000 \n",
        "    0.000     0.000     0.000     0.000     0.000     0.000     0.000     0.000     0.000     0.000 \n",
        "    0.000     0.000     0.000     0.000     0.000     0.000     0.000     0.000     0.000     0.000 \n",
        "    0.000     0.000     0.000     0.000     0.000     0.000     0.000     0.000     0.000     0.000 \n",
        "    0.000     0.000     0.000     0.000     0.000     0.000     0.000     0.000     0.000     0.000 \n",
        "    0.000     0.000     0.000     0.000     0.000     0.000     0.000     0.000     0.000     0.000 \n",
        "    0.000     0.000     0.000     0.000     0.000     0.000     0.000     0.000     0.000     0.000 \n",
        "    0.000     0.000     0.000     0.000     0.000     0.000     0.000     0.000     0.000     0.000 \n",
        "\n",
        "Mesh print d_inverse or dinv shape (10, 10)\n",
        "    0.000     0.000     0.000     0.000     0.000     0.000     0.000     0.000     0.000     0.000 \n",
        "    0.000     0.004     0.004     0.004     0.004     0.004     0.004     0.004     0.004     0.000 \n",
        "    0.000     0.004     0.004     0.004     0.004     0.004     0.004     0.004     0.004     0.000 \n",
        "    0.000     0.004     0.004     0.004     0.004     0.004     0.004     0.004     0.004     0.000 \n",
        "    0.000     0.004     0.004     0.004     0.004     0.004     0.004     0.004     0.004     0.000 \n",
        "    0.000     0.004     0.004     0.004     0.004     0.004     0.004     0.004     0.004     0.000 \n",
        "    0.000     0.004     0.004     0.004     0.004     0.004     0.004     0.004     0.004     0.000 \n",
        "    0.000     0.004     0.004     0.004     0.004     0.004     0.004     0.004     0.004     0.000 \n",
        "    0.000     0.004     0.004     0.004     0.004     0.004     0.004     0.004     0.004     0.000 \n",
        "    0.000     0.000     0.000     0.000     0.000     0.000     0.000     0.000     0.000     0.000 \n",
        "\n",
        "Mesh print cell-values after smooth shape (10, 10)\n",
        "    0.000     0.000     0.000     0.000     0.000     0.000     0.000     0.000     0.000     0.000 \n",
        "    0.000    -0.599    -0.599    -0.058     0.058     0.599     0.599     0.058     0.001     0.000 \n",
        "    0.000    -0.599    -0.598    -0.596     0.596     0.598     0.598     0.596    -0.536     0.000 \n",
        "    0.000    -0.058    -0.596    -3.242     3.242     0.596     0.596     3.242    -3.243     0.000 \n",
        "    0.000     0.058     0.596     3.242    -3.242    -0.596    -0.596    -3.242     3.243     0.000 \n",
        "    0.000     0.599     0.598     0.596    -0.596    -0.598    -0.598    -0.596     0.536     0.000 \n",
        "    0.000     0.599     0.598     0.596    -0.596    -0.598    -0.598    -0.596     0.536     0.000 \n",
        "    0.000     0.058     0.596     3.242    -3.242    -0.596    -0.596    -3.242     3.243     0.000 \n",
        "    0.000     0.001    -0.536    -3.243     3.243     0.536     0.536     3.243    -3.243     0.000 \n",
        "    0.000     0.000     0.000     0.000     0.000     0.000     0.000     0.000     0.000     0.000 \n",
        "\n"
       ]
      }
     ],
     "prompt_number": 4
    },
    {
     "cell_type": "code",
     "collapsed": false,
     "input": [
      "solver.residual.run(level, level.temp, level.cell_values, level.right_hand_side)\n",
      "level.temp.print('temp contains residual')\n",
      "# plot(level.temp, title=\"temp holds residual\")\n"
     ],
     "language": "python",
     "metadata": {},
     "outputs": [
      {
       "output_type": "stream",
       "stream": "stdout",
       "text": [
        "Mesh print temp contains residual shape (10, 10)\n",
        "    0.000     0.000     0.000     0.000     0.000     0.000     0.000     0.000     0.000     0.000 \n",
        "    0.000    15.302   -26.808   -53.603    53.603    26.797    26.797    57.423   -30.718     0.000 \n",
        "    0.000   -26.808  -137.716   -57.843    57.843   137.705   137.705    61.663     3.251     0.000 \n",
        "    0.000   -53.603   -57.843   -76.420    76.420    92.253    92.253    76.409   173.124     0.000 \n",
        "    0.000    53.603    57.843    76.420   -76.420   -92.253   -92.253   -76.409  -173.124     0.000 \n",
        "    0.000    26.797   137.705    92.253   -92.253  -137.695  -137.695   -96.073    31.160     0.000 \n",
        "    0.000    26.797   137.705    92.253   -92.253  -137.695  -137.695   -96.073    31.160     0.000 \n",
        "    0.000    57.423    61.663    76.409   -76.409   -96.073   -96.073   -76.398  -173.135     0.000 \n",
        "    0.000   -30.718     3.251   173.124  -173.124    31.160    31.160  -173.135   415.048     0.000 \n",
        "    0.000     0.000     0.000     0.000     0.000     0.000     0.000     0.000     0.000     0.000 \n",
        "\n"
       ]
      }
     ],
     "prompt_number": 5
    },
    {
     "cell_type": "code",
     "collapsed": false,
     "input": [
      "coarser_level = level.make_coarser_level()\n",
      "solver.problem_operator.rebuild_operator(coarser_level, level)\n",
      "level.temp.print('temp contains residual')\n",
      "print(\"temp neighbors {}\".format([\n",
      "    level.temp[(1, 1)], level.temp[(1, 2)], level.temp[(2, 1)], level.temp[(2, 2)]]))\n",
      "solver.restrictor.restrict(coarser_level, coarser_level.right_hand_side, level.temp, Restriction.RESTRICT_CELL)\n",
      "coarser_level.right_hand_side.print('coarse right-hand-side')\n",
      "print(\"neighborhood for cell centered restrict\\n{}\".format(solver.restrictor.neighbor_offsets[0]))\n",
      "print(\"temp neighbors {}\".format([\n",
      "    level.temp[(1, 1)], level.temp[(1, 2)], level.temp[(2, 1)], level.temp[(2, 2)]]))\n",
      "manual_restrict = (\n",
      "    level.temp[(1, 1)] + level.temp[(1, 2)] + level.temp[(2, 1)] + level.temp[(2, 2)] \n",
      ") / 4.0\n",
      "print(\"manual computed restrict for 1,1 is {} {}\".format(manual_restrict, manual_restrict*2))\n",
      "print(\"ghost {}\".format(level.ghost_zone))"
     ],
     "language": "python",
     "metadata": {},
     "outputs": [
      {
       "output_type": "stream",
       "stream": "stdout",
       "text": [
        "Mesh print temp contains residual shape (10, 10)\n",
        "    0.000     0.000     0.000     0.000     0.000     0.000     0.000     0.000     0.000     0.000 \n",
        "    0.000    15.302   -26.808   -53.603    53.603    26.797    26.797    57.423   -30.718     0.000 \n",
        "    0.000   -26.808  -137.716   -57.843    57.843   137.705   137.705    61.663     3.251     0.000 \n",
        "    0.000   -53.603   -57.843   -76.420    76.420    92.253    92.253    76.409   173.124     0.000 \n",
        "    0.000    53.603    57.843    76.420   -76.420   -92.253   -92.253   -76.409  -173.124     0.000 \n",
        "    0.000    26.797   137.705    92.253   -92.253  -137.695  -137.695   -96.073    31.160     0.000 \n",
        "    0.000    26.797   137.705    92.253   -92.253  -137.695  -137.695   -96.073    31.160     0.000 \n",
        "    0.000    57.423    61.663    76.409   -76.409   -96.073   -96.073   -76.398  -173.135     0.000 \n",
        "    0.000   -30.718     3.251   173.124  -173.124    31.160    31.160  -173.135   415.048     0.000 \n",
        "    0.000     0.000     0.000     0.000     0.000     0.000     0.000     0.000     0.000     0.000 \n",
        "\n",
        "temp neighbors [15.3020013745965, -26.807547910571245, -26.807547910571259, -137.71591851088974]\n",
        "Mesh print coarse right-hand-side shape (6, 6)\n",
        "    0.000     0.000     0.000     0.000     0.000     0.000 \n",
        "    0.000   -44.007    -0.000    82.251    22.905     0.000 \n",
        "    0.000    -0.000    -0.000     0.000     0.000     0.000 \n",
        "    0.000    82.251     0.000  -137.695   -32.457     0.000 \n",
        "    0.000    22.905     0.000   -32.457    -1.905     0.000 \n",
        "    0.000     0.000     0.000     0.000     0.000     0.000 \n",
        "\n",
        "neighborhood for cell centered restrict\n",
        "[(0, 0), (0, 1), (1, 0), (1, 1)]\n",
        "temp neighbors [15.3020013745965, -26.807547910571245, -26.807547910571259, -137.71591851088974]\n",
        "manual computed restrict for 1,1 is -44.0072532394 -88.0145064787\n",
        "ghost (1, 1)\n"
       ]
      }
     ],
     "prompt_number": 6
    },
    {
     "cell_type": "code",
     "collapsed": false,
     "input": [
      "\n",
      "# plot(level.l1_inverse)\n",
      "# plot(level.d_inverse)\n",
      "# for i in range(1, 9):\n",
      "#     for j in range(1, 9):\n",
      "#         print(\"{:5.3f} \".format(level.d_inverse[(i, j)]), end=\"\")\n",
      "#     print()"
     ],
     "language": "python",
     "metadata": {},
     "outputs": [],
     "prompt_number": 7
    },
    {
     "cell_type": "code",
     "collapsed": false,
     "input": [
      "sum([15.3020013745965, -26.807547910571245, -26.807547910571259, -137.71591851088974])/4.0"
     ],
     "language": "python",
     "metadata": {},
     "outputs": [
      {
       "metadata": {},
       "output_type": "pyout",
       "prompt_number": 8,
       "text": [
        "-44.00725323935893"
       ]
      }
     ],
     "prompt_number": 8
    }
   ],
   "metadata": {}
  }
 ]
}