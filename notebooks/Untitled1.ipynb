{
 "metadata": {
  "name": "",
  "signature": "sha256:f3bda118cdbfb3196896956759fb46d31428fafab2c1a8fc3a6e0e0a078dc5b1"
 },
 "nbformat": 3,
 "nbformat_minor": 0,
 "worksheets": [
  {
   "cells": [
    {
     "cell_type": "code",
     "collapsed": false,
     "input": [
      "class X(object):\n",
      "    def __init__(self, config):\n",
      "        self.config = config\n",
      "        "
     ],
     "language": "python",
     "metadata": {},
     "outputs": [],
     "prompt_number": 6
    },
    {
     "cell_type": "code",
     "collapsed": false,
     "input": [
      "a = X({'dog': 'cat'})\n",
      "c = X({'dog': 'cat'})\n",
      "\n",
      "b = X({'fox': 'ant'})\n",
      "print hash(a)\n",
      "print hash(b)\n",
      "print hash(c)"
     ],
     "language": "python",
     "metadata": {},
     "outputs": [
      {
       "output_type": "stream",
       "stream": "stdout",
       "text": [
        "275599245\n",
        "275599253\n",
        "275599249\n"
       ]
      }
     ],
     "prompt_number": 7
    },
    {
     "cell_type": "code",
     "collapsed": false,
     "input": [],
     "language": "python",
     "metadata": {},
     "outputs": []
    }
   ],
   "metadata": {}
  }
 ]
}