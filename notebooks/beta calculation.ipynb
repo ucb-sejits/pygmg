{
 "metadata": {
  "name": "",
  "signature": "sha256:db09a9a19e71cb80fd8cac8278860dd657fb75df1cf93e3c24882cfbc647e653"
 },
 "nbformat": 3,
 "nbformat_minor": 0,
 "worksheets": [
  {
   "cells": [
    {
     "cell_type": "code",
     "collapsed": false,
     "input": [
      "\n",
      "rx   = 0.5*r2x*pow(r2,-0.5);\n"
     ],
     "language": "python",
     "metadata": {},
     "outputs": []
    }
   ],
   "metadata": {}
  }
 ]
}