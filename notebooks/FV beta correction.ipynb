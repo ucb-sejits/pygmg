{
 "metadata": {
  "name": "",
  "signature": "sha256:47e1bfe6de2b35311dd5ad1287cb7307375f33669b6798c45dfcbef3fd960973"
 },
 "nbformat": 3,
 "nbformat_minor": 0,
 "worksheets": [
  {
   "cells": [
    {
     "cell_type": "code",
     "collapsed": false,
     "input": [
      "from math import pow, pi\n",
      "from sympy import sympify, simplify, expand, symbols, sin, cos"
     ],
     "language": "python",
     "metadata": {},
     "outputs": [],
     "prompt_number": 46
    },
    {
     "cell_type": "code",
     "collapsed": false,
     "input": [
      "period, power = 2 * pi, 7"
     ],
     "language": "python",
     "metadata": {},
     "outputs": [],
     "prompt_number": 47
    },
    {
     "cell_type": "code",
     "collapsed": false,
     "input": [
      "x, y, z, a, p = sym_symbols = symbols(\"x y z a p\")\n",
      "sympy_expression = sin(a*x)**p * sin(a*y)**p * sin(a*z)**p\n",
      "print(\"Sympy expression => {}\".format(sympy_expression))\n",
      "\n",
      "def sym_f(i, j, k):\n",
      "    return sympy_expression.subs([(x, i), (y, j), (z, k), (a, period), (p, power), ])\n",
      "    \n",
      "f_xx = f.diff(sympy.Symbol(\"x\"), 2)\n",
      "print(\"f_xx {}\".format(f_xx))\n",
      "\n",
      "print(\"symp_f(0.1, 0.2, 0.3) => {}\".format(sym_f(0.1, 0.2, 0.3)))"
     ],
     "language": "python",
     "metadata": {},
     "outputs": [
      {
       "output_type": "stream",
       "stream": "stdout",
       "text": [
        "Sympy expression => sin(a*x)**p*sin(a*y)**p*sin(a*z)**p\n",
        "f_xx a**2*p*(p*cos(a*x)**2/sin(a*x)**2 - 1 - cos(a*x)**2/sin(a*x)**2)*sin(a*x)**p*sin(a*y)**p*sin(a*z)**p\n",
        "symp_f(0.1, 0.2, 0.3) => 0.0120065809889746\n"
       ]
      }
     ],
     "prompt_number": 48
    },
    {
     "cell_type": "code",
     "collapsed": false,
     "input": [
      "def sam_f(x, y, z):\n",
      "    return pow(sin(period*x),power)*pow(sin(period*y),power)*pow(sin(period*z),power)\n",
      "\n",
      "def sam_fxx(x, y, z):\n",
      "    return -a*a*p*pow(sin(a*x),p  )*pow(sin(a*y),p  )*pow(sin(a*z),p  )  +  a*a*p*(p-1)*pow(sin(a*x),p-2)*pow(sin(a*y),p  )*pow(sin(a*z),p  )*pow(cos(a*x),2)\n",
      "\n",
      "\n",
      "print(\"sams_f(0.1, 0.2, 0.3) => {}\".format(sam_f(0.1, 0.2, 0.3)))"
     ],
     "language": "python",
     "metadata": {},
     "outputs": [
      {
       "output_type": "stream",
       "stream": "stdout",
       "text": [
        "sams_f(0.1, 0.2, 0.3) => 0.012006580989\n"
       ]
      }
     ],
     "prompt_number": 49
    },
    {
     "cell_type": "code",
     "collapsed": false,
     "input": [],
     "language": "python",
     "metadata": {},
     "outputs": []
    }
   ],
   "metadata": {}
  }
 ]
}