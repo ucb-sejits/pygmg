{
 "metadata": {
  "name": "",
  "signature": "sha256:01ae454a80de9ea2d96a66be2ce52004e08174253bf26e4c07e68d1b4f85bf8b"
 },
 "nbformat": 3,
 "nbformat_minor": 0,
 "worksheets": [
  {
   "cells": [
    {
     "cell_type": "code",
     "collapsed": false,
     "input": [
      "import numpy as np\n",
      "from ctree.frontend import get_ast, dump\n",
      "from ctree.jit import LazySpecializedFunction, ConcreteSpecializedFunction\n",
      "from ctree.transformations import PyBasicConversions\n",
      "from ctree.c.nodes import FunctionDecl, SymbolRef, CFile\n",
      "from ctree.nodes import Project\n",
      "import ctypes\n",
      "import ast\n",
      "import inspect\n",
      "!ctree -cc"
     ],
     "language": "python",
     "metadata": {},
     "outputs": [
      {
       "output_type": "stream",
       "stream": "stdout",
       "text": [
        "ctree looking for relative cache directories named compiled, checking directories under this one\r\n",
        "\r\n"
       ]
      }
     ],
     "prompt_number": 22
    },
    {
     "cell_type": "code",
     "collapsed": false,
     "input": [
      "def funny_function(x):\n",
      "    a = np.ndarray(x)\n",
      "    for i in range(x):\n",
      "        a[i] = i\n",
      "    return a"
     ],
     "language": "python",
     "metadata": {},
     "outputs": [],
     "prompt_number": 2
    },
    {
     "cell_type": "code",
     "collapsed": false,
     "input": [
      "funny_function(3)"
     ],
     "language": "python",
     "metadata": {},
     "outputs": [
      {
       "metadata": {},
       "output_type": "pyout",
       "prompt_number": 3,
       "text": [
        "array([ 0.,  1.,  2.])"
       ]
      }
     ],
     "prompt_number": 3
    },
    {
     "cell_type": "code",
     "collapsed": false,
     "input": [
      "tree = get_ast(funny_function)"
     ],
     "language": "python",
     "metadata": {},
     "outputs": [],
     "prompt_number": 4
    },
    {
     "cell_type": "code",
     "collapsed": false,
     "input": [
      "print(dump(tree))"
     ],
     "language": "python",
     "metadata": {},
     "outputs": [
      {
       "output_type": "stream",
       "stream": "stdout",
       "text": [
        "Module(body=[\n",
        "    FunctionDef(name='funny_function', args=arguments(args=[\n",
        "        Name(id='x', ctx=Param()),\n",
        "      ], vararg=None, kwarg=None, defaults=[]), body=[\n",
        "        Assign(targets=[\n",
        "            Name(id='a', ctx=Store()),\n",
        "          ], value=Call(func=Attribute(value=Name(id='np', ctx=Load()), attr='ndarray', ctx=Load()), args=[\n",
        "            Name(id='x', ctx=Load()),\n",
        "          ], keywords=[], starargs=None, kwargs=None)),\n",
        "        For(target=Name(id='i', ctx=Store()), iter=Call(func=Name(id='range', ctx=Load()), args=[\n",
        "            Name(id='x', ctx=Load()),\n",
        "          ], keywords=[], starargs=None, kwargs=None), body=[\n",
        "            Assign(targets=[\n",
        "                Subscript(value=Name(id='a', ctx=Load()), slice=Index(value=Name(id='i', ctx=Load())), ctx=Store()),\n",
        "              ], value=Name(id='i', ctx=Load())),\n",
        "          ], orelse=[]),\n",
        "        Return(value=Name(id='a', ctx=Load())),\n",
        "      ], decorator_list=[]),\n",
        "  ])\n"
       ]
      }
     ],
     "prompt_number": 5
    },
    {
     "cell_type": "code",
     "collapsed": false,
     "input": [
      "function_def = tree.body[0]\n",
      "fill = function_def.body.pop(1)\n",
      "function_def.body.insert(1,ast.Expr(value=ast.Call(func=ast.Name(id='f', ctx=ast.Load()), args=[], keywords=[], starargs=None, kwargs=None)))\n",
      "print(dump(tree))"
     ],
     "language": "python",
     "metadata": {},
     "outputs": [
      {
       "output_type": "stream",
       "stream": "stdout",
       "text": [
        "Module(body=[\n",
        "    FunctionDef(name='funny_function', args=arguments(args=[\n",
        "        Name(id='x', ctx=Param()),\n",
        "      ], vararg=None, kwarg=None, defaults=[]), body=[\n",
        "        Assign(targets=[\n",
        "            Name(id='a', ctx=Store()),\n",
        "          ], value=Call(func=Attribute(value=Name(id='np', ctx=Load()), attr='ndarray', ctx=Load()), args=[\n",
        "            Name(id='x', ctx=Load()),\n",
        "          ], keywords=[], starargs=None, kwargs=None)),\n",
        "        Expr(value=Call(func=Name(id='f', ctx=Load()), args=[], keywords=[], starargs=None, kwargs=None)),\n",
        "        Return(value=Name(id='a', ctx=Load())),\n",
        "      ], decorator_list=[]),\n",
        "  ])\n"
       ]
      }
     ],
     "prompt_number": 6
    },
    {
     "cell_type": "code",
     "collapsed": false,
     "input": [
      "ast.fix_missing_locations(tree)\n",
      "code = compile(tree, '<string>', 'exec')\n",
      "exec code"
     ],
     "language": "python",
     "metadata": {},
     "outputs": [],
     "prompt_number": 7
    },
    {
     "cell_type": "code",
     "collapsed": false,
     "input": [
      "#funny_function(3)"
     ],
     "language": "python",
     "metadata": {},
     "outputs": [],
     "prompt_number": 8
    },
    {
     "cell_type": "code",
     "collapsed": false,
     "input": [
      "class Analyzer(ast.NodeVisitor):\n",
      "    def __init__(self):\n",
      "        self.dependencies = set()\n",
      "        self.defines = set()\n",
      "        self.define = False\n",
      "        super(Analyzer, self).__init__()\n",
      "\n",
      "    def visit_Assign(self, node):\n",
      "        self.define = True\n",
      "        for target in node.targets:\n",
      "            self.visit(target)\n",
      "        self.define = False\n",
      "        node = self.generic_visit(node.value)\n",
      "\n",
      "    def visit_Subscript(self, node):\n",
      "        state, self.define = self.define, False\n",
      "        self.generic_visit(node)\n",
      "        self.define = state\n",
      "\n",
      "    def visit_Name(self, node):\n",
      "        if self.define:\n",
      "            self.defines.add(node.id)\n",
      "        elif node.id not in self.defines:\n",
      "            self.dependencies.add(node.id)\n",
      "\n",
      "    def visit_For(self, node):\n",
      "        for t in ast.walk(node.target):\n",
      "            if isinstance(t, ast.Name):\n",
      "                self.defines.add(t.id)\n",
      "        for child in ast.iter_child_nodes(node):\n",
      "            self.visit(child)\n",
      "            \n",
      "    def __str__(self):\n",
      "        return \"{}\\t{}\".format(self.defines, self.dependencies)\n",
      "\n",
      "\n",
      "\n",
      "def analyze_dependencies(tree):\n",
      "    #print(dump(tree))\n",
      "    \n",
      "    analyzer = Analyzer()\n",
      "    analyzer.visit(tree)\n",
      "    return analyzer"
     ],
     "language": "python",
     "metadata": {},
     "outputs": [],
     "prompt_number": 9
    },
    {
     "cell_type": "code",
     "collapsed": false,
     "input": [
      "deps = analyze_dependencies(fill)\n",
      "print(deps.dependencies, deps.defines)"
     ],
     "language": "python",
     "metadata": {},
     "outputs": [
      {
       "output_type": "stream",
       "stream": "stdout",
       "text": [
        "(set(['a', 'x', 'range']), set(['i']))\n"
       ]
      }
     ],
     "prompt_number": 10
    },
    {
     "cell_type": "code",
     "collapsed": false,
     "input": [
      "print(PyBasicConversions().visit(fill))"
     ],
     "language": "python",
     "metadata": {},
     "outputs": [
      {
       "output_type": "stream",
       "stream": "stdout",
       "text": [
        "for (long i = 0; i < x; i += 1) {\n",
        "    \n",
        "    a[i] = i;\n",
        "\n",
        "}\n"
       ]
      }
     ],
     "prompt_number": 11
    },
    {
     "cell_type": "code",
     "collapsed": false,
     "input": [
      "class QuickFunction(ConcreteSpecializedFunction):\n",
      "    \n",
      "    def finalize(self, entry_point_name, project_node, entry_point_typesig):\n",
      "        self._c_function = self._compile(entry_point_name, project_node, entry_point_typesig)\n",
      "        self.entry_point_name = entry_point_name\n",
      "        return self\n",
      "\n",
      "    def __call__(self, *args):\n",
      "        flattened = [arg.ravel() if isinstance(arg, np.ndarray) else arg for arg in args[:-2]]\n",
      "        self._c_function(*flattened)\n",
      "\n",
      "class QuickJit(LazySpecializedFunction):\n",
      "    @staticmethod\n",
      "    def parse_param_type(param):\n",
      "        if isinstance(param, int):\n",
      "            return ctypes.c_int()\n",
      "        elif isinstance(param, float):\n",
      "            return ctypes.c_double()\n",
      "        elif isinstance(param, np.ndarray):\n",
      "            t = param.dtype.type\n",
      "            out = ctypes.c_void_p\n",
      "            if issubclass(t, np.int64):\n",
      "                out = ctypes.c_longlong\n",
      "            elif issubclass(t, np.int):\n",
      "                out = ctypes.c_int\n",
      "            elif issubclass(t, np.double):\n",
      "                out = ctypes.c_double\n",
      "            elif issubclass(t, np.float):\n",
      "                out = ctypes.c_float\n",
      "            return ctypes.POINTER(out)()\n",
      "        \n",
      "    @staticmethod\n",
      "    def parse_cfunc_type(param):\n",
      "        if isinstance(param, int):\n",
      "            return ctypes.c_int\n",
      "        elif isinstance(param, float):\n",
      "            return ctypes.c_double\n",
      "        elif isinstance(param, np.ndarray):\n",
      "            return np.ctypeslib.ndpointer(param.dtype, 1, param.size)\n",
      "    \n",
      "    class Subconfig(list):\n",
      "        def __hash__(self):\n",
      "            h = 0\n",
      "            for i in self:\n",
      "                if isinstance(i, np.ndarray):\n",
      "                    h ^= hash(str(i.dtype))\n",
      "                else:\n",
      "                    h ^= hash(type(i))\n",
      "            return h\n",
      "                    \n",
      "    def args_to_subconfig(self, args):\n",
      "        #print(args)\n",
      "        return self.Subconfig(args)\n",
      "        \n",
      "    def transform(self, tree, program_config):\n",
      "        subconfig, tuner_config = program_config\n",
      "        subconfig = subconfig[:-2]\n",
      "        dependencies = analyze_dependencies(tree)\n",
      "        tree = PyBasicConversions().visit(tree)\n",
      "        #print(tree)\n",
      "        #print(dependencies)\n",
      "        deps = dependencies.dependencies\n",
      "        pre_defined_functions = {'range'}\n",
      "        deps -= pre_defined_functions\n",
      "        #print(deps)\n",
      "        code_hash = hash(ast.dump(self.tree, True, True))\n",
      "        #print(subconfig)\n",
      "        param_types = [self.parse_param_type(arg) for arg in subconfig]\n",
      "        param_names = sorted(deps)\n",
      "        params = [SymbolRef(name=param_name, sym_type=param_type) for param_name, param_type in zip(param_names, param_types)]\n",
      "        function = FunctionDecl(name=SymbolRef('on_the_fly_{}'.format(abs(code_hash))),\n",
      "                                params=params,\n",
      "                                defn=[tree]\n",
      "                                )\n",
      "        print(function)\n",
      "        return CFile(body=[function])\n",
      "        \n",
      "    def finalize(self, transform_result, program_config):\n",
      "        #print(transform_result[0])\n",
      "        subconfig, tuner_config = program_config\n",
      "        subconfig = subconfig[:-2]\n",
      "        code_hash = hash(ast.dump(self.tree, True, True))\n",
      "        name = 'on_the_fly_{}'.format(abs(code_hash))\n",
      "        fn = QuickFunction()\n",
      "        param_types = [self.parse_cfunc_type(arg) for arg in subconfig]\n",
      "        func_type = ctypes.CFUNCTYPE(None, *param_types)\n",
      "        return fn.finalize(name, Project(transform_result), func_type)"
     ],
     "language": "python",
     "metadata": {},
     "outputs": [],
     "prompt_number": 12
    },
    {
     "cell_type": "code",
     "collapsed": false,
     "input": [
      "a = np.ndarray((3,))\n",
      "isinstance(a.dtype.type, np.float64)"
     ],
     "language": "python",
     "metadata": {},
     "outputs": [
      {
       "metadata": {},
       "output_type": "pyout",
       "prompt_number": 13,
       "text": [
        "False"
       ]
      }
     ],
     "prompt_number": 13
    },
    {
     "cell_type": "code",
     "collapsed": false,
     "input": [
      "class ConvertToCall(ast.NodeTransformer):\n",
      "    def __init__(self, function_name):\n",
      "        self.counter = 0\n",
      "        self.function_name = function_name\n",
      "        self.specialized = []\n",
      "    def visit_For(self, node):\n",
      "        spec_name = '_func_{}'.format(self.counter)\n",
      "        func_name = ast.Attribute(value=ast.Name(id=self.function_name, ctx=ast.Load()), attr=spec_name, ctx=ast.Load())\n",
      "        \n",
      "        self.counter += 1\n",
      "        self.specialized.append(node)\n",
      "        analysis = analyze_dependencies(node)\n",
      "        dependencies = sorted(analysis.dependencies - set(__builtin__.__dict__))\n",
      "        args = [ast.Name(id=dep, ctx=ast.Load()) for dep in dependencies]\n",
      "        call = lambda name: ast.Call(func=ast.Name(id=name, ctx=ast.Load()), args=[], keywords=[], starargs=None, kwargs=None)\n",
      "        args.append(call('locals'))\n",
      "        args.append(call('globals'))\n",
      "        exp = ast.Expr(value=ast.Call(func=func_name, args=args, keywords=[], starargs=None, kwargs=None))\n",
      "        return exp\n",
      "\n",
      "def jit_this_crap(function):\n",
      "    tree = get_ast(function)\n",
      "    c2c = ConvertToCall(function.__name__)\n",
      "    tree = c2c.visit(tree)\n",
      "    jits = [QuickJit(py_ast=sub_tree) for sub_tree in c2c.specialized]\n",
      "    f_tree = tree.body[0]\n",
      "    f_tree.decorator_list = [i for i in f_tree.decorator_list if not isinstance(i, ast.Name) and i.id == 'jit_this_crap']\n",
      "    #print(dump(tree))\n",
      "    ast.fix_missing_locations(tree)\n",
      "    code = compile(tree, '<string>', 'exec')\n",
      "    exec code in globals(), locals()\n",
      "    function_obj = locals()[function.__name__]\n",
      "    def wrapper(*args, **kwargs):\n",
      "        return function_obj(*args, **kwargs)\n",
      "    for i, jit_func in enumerate(jits):\n",
      "        setattr(wrapper, '_func_{}'.format(i), jit_func)\n",
      "    return wrapper\n",
      "\n",
      "@jit_this_crap\n",
      "def f(x):\n",
      "    a = np.ndarray(x)\n",
      "    for i in range(x):\n",
      "        a[i] = i\n",
      "    return a"
     ],
     "language": "python",
     "metadata": {},
     "outputs": [],
     "prompt_number": 14
    },
    {
     "cell_type": "code",
     "collapsed": false,
     "input": [
      "print(dump(ast.parse(\"a.x\")))"
     ],
     "language": "python",
     "metadata": {},
     "outputs": [
      {
       "output_type": "stream",
       "stream": "stdout",
       "text": [
        "Module(body=[\n",
        "    Expr(value=Attribute(value=Name(id='a', ctx=Load()), attr='x', ctx=Load())),\n",
        "  ])\n"
       ]
      }
     ],
     "prompt_number": 15
    },
    {
     "cell_type": "code",
     "collapsed": false,
     "input": [
      "f(3)"
     ],
     "language": "python",
     "metadata": {},
     "outputs": [
      {
       "output_type": "stream",
       "stream": "stdout",
       "text": [
        "void on_the_fly_2885836357272805184(double* a, int x) {\n",
        "    for (long i = 0; i < x; i += 1) {\n",
        "        \n",
        "        a[i] = i;\n",
        "\n",
        "    };\n",
        "}\n"
       ]
      },
      {
       "metadata": {},
       "output_type": "pyout",
       "prompt_number": 16,
       "text": [
        "array([ 0.,  1.,  2.])"
       ]
      }
     ],
     "prompt_number": 16
    },
    {
     "cell_type": "code",
     "collapsed": false,
     "input": [
      "@jit_this_crap\n",
      "def funky(a, b):\n",
      "    for i in range(b):\n",
      "        a[i] = 3*b*i + 4\n",
      "    return a"
     ],
     "language": "python",
     "metadata": {},
     "outputs": [],
     "prompt_number": 17
    },
    {
     "cell_type": "code",
     "collapsed": false,
     "input": [
      "a = np.arange(16)\n",
      "print(a.dtype)\n",
      "funky(a, a.size)\n",
      "print(a)"
     ],
     "language": "python",
     "metadata": {},
     "outputs": [
      {
       "output_type": "stream",
       "stream": "stdout",
       "text": [
        "int64\n",
        "void on_the_fly_379466204107275034(long* a, int b) {\n",
        "    for (long i = 0; i < b; i += 1) {\n",
        "        \n",
        "        a[i] = 3 * b * i + 4;\n",
        "\n",
        "    };\n",
        "}\n",
        "[  4  52 100 148 196 244 292 340 388 436 484 532 580 628 676 724]"
       ]
      },
      {
       "output_type": "stream",
       "stream": "stdout",
       "text": [
        "\n"
       ]
      }
     ],
     "prompt_number": 18
    },
    {
     "cell_type": "code",
     "collapsed": false,
     "input": [
      "def f(x):\n",
      "    for i in range(10):\n",
      "        g(x, i)"
     ],
     "language": "python",
     "metadata": {},
     "outputs": [
      {
       "output_type": "stream",
       "stream": "stdout",
       "text": [
        "/Users/nzhang-dev/aspire/pygmg/notebooks\n"
       ]
      }
     ],
     "prompt_number": 19
    },
    {
     "cell_type": "code",
     "collapsed": false,
     "input": [
      "class A(object):\n",
      "    def f(self, x, y):\n",
      "        print locals()\n",
      "\n",
      "A().f(3, 4)"
     ],
     "language": "python",
     "metadata": {},
     "outputs": [
      {
       "output_type": "stream",
       "stream": "stdout",
       "text": [
        "{'y': 4, 'x': 3, 'self': <__main__.A object at 0x106bda710>}\n"
       ]
      }
     ],
     "prompt_number": 20
    },
    {
     "cell_type": "code",
     "collapsed": false,
     "input": [
      "inspect.getargspec(A.f)\n"
     ],
     "language": "python",
     "metadata": {},
     "outputs": [
      {
       "metadata": {},
       "output_type": "pyout",
       "prompt_number": 23,
       "text": [
        "ArgSpec(args=['self', 'x', 'y'], varargs=None, keywords=None, defaults=None)"
       ]
      }
     ],
     "prompt_number": 23
    },
    {
     "cell_type": "code",
     "collapsed": false,
     "input": [
      "print(dump(ast.parse(\"f(x, y, x.k)\")))"
     ],
     "language": "python",
     "metadata": {},
     "outputs": [
      {
       "output_type": "stream",
       "stream": "stdout",
       "text": [
        "Module(body=[\n",
        "    Expr(value=Call(func=Name(id='f', ctx=Load()), args=[\n",
        "        Name(id='x', ctx=Load()),\n",
        "        Name(id='y', ctx=Load()),\n",
        "        Attribute(value=Name(id='x', ctx=Load()), attr='k', ctx=Load()),\n",
        "      ], keywords=[], starargs=None, kwargs=None)),\n",
        "  ])\n"
       ]
      }
     ],
     "prompt_number": 24
    },
    {
     "cell_type": "code",
     "collapsed": false,
     "input": [],
     "language": "python",
     "metadata": {},
     "outputs": []
    }
   ],
   "metadata": {}
  }
 ]
}