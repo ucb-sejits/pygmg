{
 "metadata": {
  "name": "",
  "signature": "sha256:6c519711e30cec34e7d4645547a64e4c623dfdba394e168225330b3f2a5cfe43"
 },
 "nbformat": 3,
 "nbformat_minor": 0,
 "worksheets": [
  {
   "cells": [
    {
     "cell_type": "code",
     "collapsed": false,
     "input": [
      "import numpy as np\n",
      "%matplotlib inline\n",
      "import matplotlib.pyplot as plt\n",
      "from mpl_toolkits.mplot3d import Axes3D\n"
     ],
     "language": "python",
     "metadata": {},
     "outputs": [],
     "prompt_number": 2
    },
    {
     "cell_type": "code",
     "collapsed": false,
     "input": [
      "H = np.array([[1,2,3,4],[5,6,7,8],[9,10,11,12],[13,14,15,16]])  # added some commas and array creation code\n",
      "H = np.zeros([4, 4])\n",
      "H[:,3] = 10\n",
      "\n",
      "fig = plt.figure(figsize=(6, 3.2))\n",
      "ax = fig.add_subplot(111)\n",
      "ax.set_title('colorMap')\n",
      "plt.imshow(H)\n",
      "ax.set_aspect('equal')\n",
      "\n",
      "cax = fig.add_axes([0.12, 0.1, 0.78, 0.8])\n",
      "cax.get_xaxis().set_visible(False)\n",
      "cax.get_yaxis().set_visible(False)\n",
      "cax.patch.set_alpha(0)\n",
      "cax.set_frame_on(False)\n",
      "plt.colorbar(orientation='vertical')\n",
      "plt.show()"
     ],
     "language": "python",
     "metadata": {},
     "outputs": [
      {
       "metadata": {},
       "output_type": "display_data",
       "png": "[encoded data removed]",
       "text": [
        "<matplotlib.figure.Figure at 0x108c02550>"
       ]
      }
     ],
     "prompt_number": 5
    },
    {
     "cell_type": "code",
     "collapsed": false,
     "input": [],
     "language": "python",
     "metadata": {},
     "outputs": []
    },
    {
     "cell_type": "code",
     "collapsed": false,
     "input": [],
     "language": "python",
     "metadata": {},
     "outputs": []
    }
   ],
   "metadata": {}
  }
 ]
}